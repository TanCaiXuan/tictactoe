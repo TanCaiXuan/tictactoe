{
 "cells": [
  {
   "cell_type": "code",
   "execution_count": 1,
   "id": "8f3adb41-cae2-4dae-b796-a095f69c47f0",
   "metadata": {},
   "outputs": [
    {
     "name": "stdout",
     "output_type": "stream",
     "text": [
      "\u001b[1;32m Please enter as below\n",
      "\u001b[0m\n",
      "+----------+------------+-----------+\n",
      "-\u001b[1;35m top_left\u001b[0m |\u001b[1;35m top_center\u001b[0m |\u001b[1;35m top_right\u001b[0m -\n",
      "+----------+------------+-----------+\n",
      "-\u001b[1;35m mid_left\u001b[0m |\u001b[1;35m mid_center\u001b[0m |\u001b[1;35m mid_right\u001b[0m -\n",
      "+----------+------------+-----------+\n",
      "-\u001b[1;35m btm_left\u001b[0m |\u001b[1;35m btm_center\u001b[0m |\u001b[1;35m btm_right\u001b[0m -\n",
      "+----------+------------+-----------+\n",
      "\n",
      "+---+---+---+\n",
      "-   |   |   -\n",
      "+---+---+---+\n",
      "-   |   |   -\n",
      "+---+---+---+\n",
      "-   |   |   -\n",
      "+---+---+---+\n",
      "Hi, this is your turn, Player 1\n"
     ]
    },
    {
     "name": "stdin",
     "output_type": "stream",
     "text": [
      "Please enter your move (e.g., 'top_left', 'mid_center'):  top_left\n"
     ]
    },
    {
     "name": "stdout",
     "output_type": "stream",
     "text": [
      "+---+---+---+\n",
      "- \u001b[1;31mX\u001b[0m |   |   -\n",
      "+---+---+---+\n",
      "-   |   |   -\n",
      "+---+---+---+\n",
      "-   |   |   -\n",
      "+---+---+---+\n",
      "Hi, this is your turn, Player 2\n"
     ]
    },
    {
     "name": "stdin",
     "output_type": "stream",
     "text": [
      "Please enter your move (e.g., 'top_left', 'mid_center'):  top_center\n"
     ]
    },
    {
     "name": "stdout",
     "output_type": "stream",
     "text": [
      "+---+---+---+\n",
      "- \u001b[1;31mX\u001b[0m | \u001b[1;34mO\u001b[0m |   -\n",
      "+---+---+---+\n",
      "-   |   |   -\n",
      "+---+---+---+\n",
      "-   |   |   -\n",
      "+---+---+---+\n",
      "Hi, this is your turn, Player 1\n"
     ]
    },
    {
     "name": "stdin",
     "output_type": "stream",
     "text": [
      "Please enter your move (e.g., 'top_left', 'mid_center'):  mid_left\n"
     ]
    },
    {
     "name": "stdout",
     "output_type": "stream",
     "text": [
      "+---+---+---+\n",
      "- \u001b[1;31mX\u001b[0m | \u001b[1;34mO\u001b[0m |   -\n",
      "+---+---+---+\n",
      "- \u001b[1;31mX\u001b[0m |   |   -\n",
      "+---+---+---+\n",
      "-   |   |   -\n",
      "+---+---+---+\n",
      "Hi, this is your turn, Player 2\n"
     ]
    },
    {
     "name": "stdin",
     "output_type": "stream",
     "text": [
      "Please enter your move (e.g., 'top_left', 'mid_center'):  mid_center\n"
     ]
    },
    {
     "name": "stdout",
     "output_type": "stream",
     "text": [
      "+---+---+---+\n",
      "- \u001b[1;31mX\u001b[0m | \u001b[1;34mO\u001b[0m |   -\n",
      "+---+---+---+\n",
      "- \u001b[1;31mX\u001b[0m | \u001b[1;34mO\u001b[0m |   -\n",
      "+---+---+---+\n",
      "-   |   |   -\n",
      "+---+---+---+\n",
      "Hi, this is your turn, Player 1\n"
     ]
    },
    {
     "name": "stdin",
     "output_type": "stream",
     "text": [
      "Please enter your move (e.g., 'top_left', 'mid_center'):  btm_left\n"
     ]
    },
    {
     "name": "stdout",
     "output_type": "stream",
     "text": [
      "+---+---+---+\n",
      "- \u001b[1;31mX\u001b[0m | \u001b[1;34mO\u001b[0m |   -\n",
      "+---+---+---+\n",
      "- \u001b[1;31mX\u001b[0m | \u001b[1;34mO\u001b[0m |   -\n",
      "+---+---+---+\n",
      "- \u001b[1;31mX\u001b[0m |   |   -\n",
      "+---+---+---+\n",
      "Player X wins!\n"
     ]
    },
    {
     "name": "stdin",
     "output_type": "stream",
     "text": [
      "Do you want to play again? (y/n):  y\n"
     ]
    },
    {
     "name": "stdout",
     "output_type": "stream",
     "text": [
      "\u001b[1;32m Please enter as below\n",
      "\u001b[0m\n",
      "+----------+------------+-----------+\n",
      "-\u001b[1;35m top_left\u001b[0m |\u001b[1;35m top_center\u001b[0m |\u001b[1;35m top_right\u001b[0m -\n",
      "+----------+------------+-----------+\n",
      "-\u001b[1;35m mid_left\u001b[0m |\u001b[1;35m mid_center\u001b[0m |\u001b[1;35m mid_right\u001b[0m -\n",
      "+----------+------------+-----------+\n",
      "-\u001b[1;35m btm_left\u001b[0m |\u001b[1;35m btm_center\u001b[0m |\u001b[1;35m btm_right\u001b[0m -\n",
      "+----------+------------+-----------+\n",
      "\n",
      "+---+---+---+\n",
      "-   |   |   -\n",
      "+---+---+---+\n",
      "-   |   |   -\n",
      "+---+---+---+\n",
      "-   |   |   -\n",
      "+---+---+---+\n",
      "Hi, this is your turn, Player 1\n"
     ]
    },
    {
     "name": "stdin",
     "output_type": "stream",
     "text": [
      "Please enter your move (e.g., 'top_left', 'mid_center'):  top_center\n"
     ]
    },
    {
     "name": "stdout",
     "output_type": "stream",
     "text": [
      "+---+---+---+\n",
      "-   | \u001b[1;31mX\u001b[0m |   -\n",
      "+---+---+---+\n",
      "-   |   |   -\n",
      "+---+---+---+\n",
      "-   |   |   -\n",
      "+---+---+---+\n",
      "Hi, this is your turn, Player 2\n"
     ]
    },
    {
     "name": "stdin",
     "output_type": "stream",
     "text": [
      "Please enter your move (e.g., 'top_left', 'mid_center'):  top_center\n"
     ]
    },
    {
     "name": "stdout",
     "output_type": "stream",
     "text": [
      "Invalid choice. Try again.\n"
     ]
    },
    {
     "name": "stdin",
     "output_type": "stream",
     "text": [
      "Please enter your move (e.g., 'top_left', 'mid_center'):  top_left\n"
     ]
    },
    {
     "name": "stdout",
     "output_type": "stream",
     "text": [
      "+---+---+---+\n",
      "- \u001b[1;34mO\u001b[0m | \u001b[1;31mX\u001b[0m |   -\n",
      "+---+---+---+\n",
      "-   |   |   -\n",
      "+---+---+---+\n",
      "-   |   |   -\n",
      "+---+---+---+\n",
      "Hi, this is your turn, Player 1\n"
     ]
    },
    {
     "name": "stdin",
     "output_type": "stream",
     "text": [
      "Please enter your move (e.g., 'top_left', 'mid_center'):  top_right\n"
     ]
    },
    {
     "name": "stdout",
     "output_type": "stream",
     "text": [
      "+---+---+---+\n",
      "- \u001b[1;34mO\u001b[0m | \u001b[1;31mX\u001b[0m | \u001b[1;31mX\u001b[0m -\n",
      "+---+---+---+\n",
      "-   |   |   -\n",
      "+---+---+---+\n",
      "-   |   |   -\n",
      "+---+---+---+\n",
      "Hi, this is your turn, Player 2\n"
     ]
    },
    {
     "name": "stdin",
     "output_type": "stream",
     "text": [
      "Please enter your move (e.g., 'top_left', 'mid_center'):  mid_right\n"
     ]
    },
    {
     "name": "stdout",
     "output_type": "stream",
     "text": [
      "+---+---+---+\n",
      "- \u001b[1;34mO\u001b[0m | \u001b[1;31mX\u001b[0m | \u001b[1;31mX\u001b[0m -\n",
      "+---+---+---+\n",
      "-   |   | \u001b[1;34mO\u001b[0m -\n",
      "+---+---+---+\n",
      "-   |   |   -\n",
      "+---+---+---+\n",
      "Hi, this is your turn, Player 1\n"
     ]
    },
    {
     "name": "stdin",
     "output_type": "stream",
     "text": [
      "Please enter your move (e.g., 'top_left', 'mid_center'):  btm_right\n"
     ]
    },
    {
     "name": "stdout",
     "output_type": "stream",
     "text": [
      "+---+---+---+\n",
      "- \u001b[1;34mO\u001b[0m | \u001b[1;31mX\u001b[0m | \u001b[1;31mX\u001b[0m -\n",
      "+---+---+---+\n",
      "-   |   | \u001b[1;34mO\u001b[0m -\n",
      "+---+---+---+\n",
      "-   |   | \u001b[1;31mX\u001b[0m -\n",
      "+---+---+---+\n",
      "Hi, this is your turn, Player 2\n"
     ]
    },
    {
     "name": "stdin",
     "output_type": "stream",
     "text": [
      "Please enter your move (e.g., 'top_left', 'mid_center'):  mid_center\n"
     ]
    },
    {
     "name": "stdout",
     "output_type": "stream",
     "text": [
      "+---+---+---+\n",
      "- \u001b[1;34mO\u001b[0m | \u001b[1;31mX\u001b[0m | \u001b[1;31mX\u001b[0m -\n",
      "+---+---+---+\n",
      "-   | \u001b[1;34mO\u001b[0m | \u001b[1;34mO\u001b[0m -\n",
      "+---+---+---+\n",
      "-   |   | \u001b[1;31mX\u001b[0m -\n",
      "+---+---+---+\n",
      "Hi, this is your turn, Player 1\n"
     ]
    },
    {
     "name": "stdin",
     "output_type": "stream",
     "text": [
      "Please enter your move (e.g., 'top_left', 'mid_center'):  mid_left\n"
     ]
    },
    {
     "name": "stdout",
     "output_type": "stream",
     "text": [
      "+---+---+---+\n",
      "- \u001b[1;34mO\u001b[0m | \u001b[1;31mX\u001b[0m | \u001b[1;31mX\u001b[0m -\n",
      "+---+---+---+\n",
      "- \u001b[1;31mX\u001b[0m | \u001b[1;34mO\u001b[0m | \u001b[1;34mO\u001b[0m -\n",
      "+---+---+---+\n",
      "-   |   | \u001b[1;31mX\u001b[0m -\n",
      "+---+---+---+\n",
      "Hi, this is your turn, Player 2\n"
     ]
    },
    {
     "name": "stdin",
     "output_type": "stream",
     "text": [
      "Please enter your move (e.g., 'top_left', 'mid_center'):  btm_left\n"
     ]
    },
    {
     "name": "stdout",
     "output_type": "stream",
     "text": [
      "+---+---+---+\n",
      "- \u001b[1;34mO\u001b[0m | \u001b[1;31mX\u001b[0m | \u001b[1;31mX\u001b[0m -\n",
      "+---+---+---+\n",
      "- \u001b[1;31mX\u001b[0m | \u001b[1;34mO\u001b[0m | \u001b[1;34mO\u001b[0m -\n",
      "+---+---+---+\n",
      "- \u001b[1;34mO\u001b[0m |   | \u001b[1;31mX\u001b[0m -\n",
      "+---+---+---+\n",
      "Hi, this is your turn, Player 1\n"
     ]
    },
    {
     "name": "stdin",
     "output_type": "stream",
     "text": [
      "Please enter your move (e.g., 'top_left', 'mid_center'):  btm_center\n"
     ]
    },
    {
     "name": "stdout",
     "output_type": "stream",
     "text": [
      "+---+---+---+\n",
      "- \u001b[1;34mO\u001b[0m | \u001b[1;31mX\u001b[0m | \u001b[1;31mX\u001b[0m -\n",
      "+---+---+---+\n",
      "- \u001b[1;31mX\u001b[0m | \u001b[1;34mO\u001b[0m | \u001b[1;34mO\u001b[0m -\n",
      "+---+---+---+\n",
      "- \u001b[1;34mO\u001b[0m | \u001b[1;31mX\u001b[0m | \u001b[1;31mX\u001b[0m -\n",
      "+---+---+---+\n",
      "It's a draw!\n"
     ]
    },
    {
     "name": "stdin",
     "output_type": "stream",
     "text": [
      "Do you want to play again? (y/n):  n\n"
     ]
    },
    {
     "name": "stdout",
     "output_type": "stream",
     "text": [
      "Thank you for playing!\n"
     ]
    }
   ],
   "source": [
    "from tictactoe import *\n",
    "# Create an instance of the TicTacToe class\n",
    "game = TicTacToe()\n",
    "\n",
    "# Call methods on the instance\n",
    "game.tic_tac_toe()"
   ]
  },
  {
   "cell_type": "code",
   "execution_count": null,
   "id": "4b7cad0c-7f47-4f7c-9727-f3d200640d93",
   "metadata": {},
   "outputs": [],
   "source": []
  },
  {
   "cell_type": "code",
   "execution_count": null,
   "id": "e809ce62-e245-4319-9ff4-7539c31dfd40",
   "metadata": {},
   "outputs": [],
   "source": [
    "# Use .ipynb files (Jupyter Notebooks) for interactive development, data exploration, documenting workflows, and creating tutorials where code, text, and visualizations are closely integrated."
   ]
  }
 ],
 "metadata": {
  "kernelspec": {
   "display_name": "Python 3 (ipykernel)",
   "language": "python",
   "name": "python3"
  },
  "language_info": {
   "codemirror_mode": {
    "name": "ipython",
    "version": 3
   },
   "file_extension": ".py",
   "mimetype": "text/x-python",
   "name": "python",
   "nbconvert_exporter": "python",
   "pygments_lexer": "ipython3",
   "version": "3.12.3"
  }
 },
 "nbformat": 4,
 "nbformat_minor": 5
}
